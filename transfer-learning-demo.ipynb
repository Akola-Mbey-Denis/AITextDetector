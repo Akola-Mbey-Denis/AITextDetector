{
 "cells": [
  {
   "cell_type": "code",
   "execution_count": 1,
   "id": "2d52b658",
   "metadata": {},
   "outputs": [],
   "source": [
    "import pandas as pd\n",
    "import numpy as np\n",
    "import torch\n",
    "import torch.nn as nn\n",
    "import warnings\n",
    "import random\n",
    "warnings.filterwarnings('ignore')\n",
    "import transformers\n",
    "from models.bert import BertAITextDetector\n",
    "from models.roberta_model import RobertaAITextDetector\n",
    "from models.gpt import GPTAITextDetector\n",
    "from models.xlm import XLMRobertaAITextDetector\n",
    "from utils.dataloader import AITextDataset\n",
    "import numpy as np\n",
    "from transformers import AdamW\n",
    "from tqdm import tqdm\n",
    "from torch.utils.data import DataLoader,Subset\n",
    "import matplotlib.pyplot as plt\n",
    "from sklearn.metrics import confusion_matrix, ConfusionMatrixDisplay,roc_curve,auc,accuracy_score"
   ]
  },
  {
   "cell_type": "code",
   "execution_count": 2,
   "id": "2537e851",
   "metadata": {},
   "outputs": [],
   "source": [
    "# Enforce reproducibility\n",
    "seed = 25\n",
    "random.seed(seed)\n",
    "torch.manual_seed(seed)\n",
    "np.random.seed(seed)\n",
    "torch.cuda.manual_seed_all(seed)\n",
    "torch.backends.cudnn.deterministic = True"
   ]
  },
  {
   "cell_type": "code",
   "execution_count": 16,
   "id": "b0c3ac46",
   "metadata": {},
   "outputs": [],
   "source": [
    "def training_loop(epochs,dataloader,val_dataloader,model,loss_fn,optimizer,scheduler):\n",
    "    model.train()\n",
    "    train_loss = []\n",
    "    val_loss =[]\n",
    "    for  epoch in range(1,epochs+1):       \n",
    "        loop=tqdm(enumerate(dataloader),leave=False,total=len(dataloader))\n",
    "        total_loss  = 0\n",
    "        num_correct = 0\n",
    "        target_count = 0\n",
    "        for batch, dl in loop:\n",
    "            ids=dl['ids'].to(device)\n",
    "            if arch =='bert':\n",
    "                token_type_ids = dl['token_type_ids'].to(device)\n",
    "            mask= dl['mask'].to(device)\n",
    "            label=dl['target'].to(device)\n",
    "            label = label.unsqueeze(1).to(device)\n",
    "\n",
    "            optimizer.zero_grad()\n",
    "            \n",
    "            if arch =='bert':\n",
    "                output = model(ids,mask,token_type_ids)\n",
    "            else:\n",
    "                output = model(ids,mask)\n",
    "            label = label.type_as(output)\n",
    "\n",
    "            loss = loss_fn(output,label)\n",
    "            # back propagate\n",
    "            loss.backward()  \n",
    "            # Clip the norm of the gradients to 1.0 to prevent \"exploding gradients\"\n",
    "            torch.nn.utils.clip_grad_norm_(model.parameters(), 1.0)          \n",
    "            optimizer.step()\n",
    "            scheduler.step()\n",
    "            \n",
    "            output = output.cpu().detach().numpy()\n",
    "            pred = np.where(output >= 0, 1, 0)\n",
    "\n",
    "            target_count += label.size(0)\n",
    "            \n",
    "            # compute accuracy per batch\n",
    "            num_correct+= sum(1 for a, b in zip(pred, label) if a[0] == b[0]) \n",
    "              \n",
    "          \n",
    "            total_loss+= loss.item() \n",
    "        train_loss.append(round(float(total_loss/len(dataloader)),3))\n",
    "        print(f'Training loss :{round(float(total_loss/len(dataloader)),3)}   with accuracy {round(float(100 * num_correct /target_count),3)}%')\n",
    "        if epoch%1 == 0 and epoch>=40:\n",
    "           val_acc, v_loss = validation_loop(val_dataloader,model,loss_fn)   \n",
    "           val_loss.append(v_loss)\n",
    "           # Show progress while training\n",
    "           loop.set_description(f'Epochs={epoch}/{epochs}')\n",
    "           # saved model \n",
    "           torch.save(model.state_dict(), PATH+'/ai-text-classifier-'+str(val_acc)+'.pth')\n",
    "            \n",
    "\n",
    "    return model, train_loss,val_loss\n",
    "\n"
   ]
  },
  {
   "cell_type": "code",
   "execution_count": 18,
   "id": "2b1fcc65",
   "metadata": {},
   "outputs": [],
   "source": [
    "def validation_loop(dataloader,model,loss_fn):\n",
    "    model.eval()\n",
    "    loop = tqdm(enumerate(dataloader),leave=False,total=len(dataloader))\n",
    "    num_correct = 0\n",
    "    target_count = 0\n",
    "    total_loss  = 0\n",
    "    with torch.no_grad():\n",
    "        for batch, dl in loop:\n",
    "            ids=dl['ids'].to(device)\n",
    "            if arch =='bert':\n",
    "                token_type_ids=dl['token_type_ids'].to(device)\n",
    "            mask= dl['mask'].to(device)\n",
    "            label=dl['target'].to(device)\n",
    "            label = label.unsqueeze(1).to(device)\n",
    "            if arch =='bert':\n",
    "                output = model(ids,mask,token_type_ids)\n",
    "            else:\n",
    "                output = model(ids,mask)\n",
    "\n",
    "            label = label.type_as(output) \n",
    "            loss = loss_fn(output,label)               \n",
    "            output =output.cpu().detach().numpy()\n",
    "            pred = np.where(output >= 0, 1, 0)\n",
    "            target_count += label.size(0)\n",
    "            \n",
    "\n",
    "            # compute accuracy per batch\n",
    "            num_correct+= sum(1 for a, b in zip(pred, label) if a[0] == b[0])\n",
    "            total_loss+= loss.item() \n",
    "       \n",
    "    print(f'Validation loss :{round(float(total_loss/len(dataloader)),3)}   with accuracy {round(float(100 * num_correct /target_count),3)}%')\n",
    "    return float(100 * num_correct / target_count),round(float(total_loss/len(dataloader)),3)"
   ]
  },
  {
   "cell_type": "code",
   "execution_count": 19,
   "id": "f15ab011",
   "metadata": {},
   "outputs": [],
   "source": [
    "device = torch.device('cuda') if torch.cuda.is_available() else torch.device('cpu')"
   ]
  },
  {
   "cell_type": "code",
   "execution_count": 20,
   "id": "000038fe",
   "metadata": {},
   "outputs": [
    {
     "name": "stderr",
     "output_type": "stream",
     "text": [
      "Some weights of the model checkpoint at bert-base-uncased were not used when initializing BertModel: ['cls.predictions.transform.dense.bias', 'cls.predictions.transform.LayerNorm.weight', 'cls.predictions.bias', 'cls.predictions.transform.LayerNorm.bias', 'cls.predictions.decoder.weight', 'cls.seq_relationship.bias', 'cls.predictions.transform.dense.weight', 'cls.seq_relationship.weight']\n",
      "- This IS expected if you are initializing BertModel from the checkpoint of a model trained on another task or with another architecture (e.g. initializing a BertForSequenceClassification model from a BertForPreTraining model).\n",
      "- This IS NOT expected if you are initializing BertModel from the checkpoint of a model that you expect to be exactly identical (initializing a BertForSequenceClassification model from a BertForSequenceClassification model).\n"
     ]
    }
   ],
   "source": [
    "model = BertAITextDetector(dropout = 0.20)\n",
    "#fine tune only fc layer\n",
    "for param in model.bert.parameters():\n",
    "    param.requires_grad = False"
   ]
  },
  {
   "cell_type": "code",
   "execution_count": 21,
   "id": "0f5252d2",
   "metadata": {},
   "outputs": [
    {
     "name": "stderr",
     "output_type": "stream",
     "text": [
      "                                                                                                                                                                                                              "
     ]
    },
    {
     "name": "stdout",
     "output_type": "stream",
     "text": [
      "Training loss :0.695   with accuracy 52.875%\n"
     ]
    },
    {
     "name": "stderr",
     "output_type": "stream",
     "text": [
      "                                                                                                                                                                                                              "
     ]
    },
    {
     "name": "stdout",
     "output_type": "stream",
     "text": [
      "Training loss :0.686   with accuracy 55.281%\n"
     ]
    },
    {
     "name": "stderr",
     "output_type": "stream",
     "text": [
      "                                                                                                                                                                                                              "
     ]
    },
    {
     "name": "stdout",
     "output_type": "stream",
     "text": [
      "Training loss :0.678   with accuracy 55.625%\n"
     ]
    },
    {
     "name": "stderr",
     "output_type": "stream",
     "text": [
      "                                                                                                                                                                                                              "
     ]
    },
    {
     "name": "stdout",
     "output_type": "stream",
     "text": [
      "Training loss :0.668   with accuracy 59.406%\n"
     ]
    },
    {
     "name": "stderr",
     "output_type": "stream",
     "text": [
      "                                                                                                                                                                                                              "
     ]
    },
    {
     "name": "stdout",
     "output_type": "stream",
     "text": [
      "Training loss :0.666   with accuracy 59.719%\n"
     ]
    },
    {
     "name": "stderr",
     "output_type": "stream",
     "text": [
      "                                                                                                                                                                                                              "
     ]
    },
    {
     "name": "stdout",
     "output_type": "stream",
     "text": [
      "Training loss :0.663   with accuracy 61.281%\n"
     ]
    },
    {
     "name": "stderr",
     "output_type": "stream",
     "text": [
      "                                                                                                                                                                                                              "
     ]
    },
    {
     "name": "stdout",
     "output_type": "stream",
     "text": [
      "Training loss :0.66   with accuracy 60.5%\n"
     ]
    },
    {
     "name": "stderr",
     "output_type": "stream",
     "text": [
      "                                                                                                                                                                                                              "
     ]
    },
    {
     "name": "stdout",
     "output_type": "stream",
     "text": [
      "Training loss :0.656   with accuracy 60.719%\n"
     ]
    },
    {
     "name": "stderr",
     "output_type": "stream",
     "text": [
      "                                                                                                                                                                                                              "
     ]
    },
    {
     "name": "stdout",
     "output_type": "stream",
     "text": [
      "Training loss :0.654   with accuracy 62.156%\n"
     ]
    },
    {
     "name": "stderr",
     "output_type": "stream",
     "text": [
      "                                                                                                                                                                                                              "
     ]
    },
    {
     "name": "stdout",
     "output_type": "stream",
     "text": [
      "Training loss :0.65   with accuracy 62.094%\n"
     ]
    },
    {
     "name": "stderr",
     "output_type": "stream",
     "text": [
      "                                                                                                                                                                                                              "
     ]
    },
    {
     "name": "stdout",
     "output_type": "stream",
     "text": [
      "Training loss :0.653   with accuracy 61.719%\n"
     ]
    },
    {
     "name": "stderr",
     "output_type": "stream",
     "text": [
      "                                                                                                                                                                                                              "
     ]
    },
    {
     "name": "stdout",
     "output_type": "stream",
     "text": [
      "Training loss :0.649   with accuracy 62.125%\n"
     ]
    },
    {
     "name": "stderr",
     "output_type": "stream",
     "text": [
      "                                                                                                                                                                                                              "
     ]
    },
    {
     "name": "stdout",
     "output_type": "stream",
     "text": [
      "Training loss :0.648   with accuracy 63.594%\n"
     ]
    },
    {
     "name": "stderr",
     "output_type": "stream",
     "text": [
      "                                                                                                                                                                                                              "
     ]
    },
    {
     "name": "stdout",
     "output_type": "stream",
     "text": [
      "Training loss :0.646   with accuracy 62.531%\n"
     ]
    },
    {
     "name": "stderr",
     "output_type": "stream",
     "text": [
      "                                                                                                                                                                                                              "
     ]
    },
    {
     "name": "stdout",
     "output_type": "stream",
     "text": [
      "Training loss :0.643   with accuracy 63.469%\n"
     ]
    },
    {
     "name": "stderr",
     "output_type": "stream",
     "text": [
      "                                                                                                                                                                                                              "
     ]
    },
    {
     "name": "stdout",
     "output_type": "stream",
     "text": [
      "Training loss :0.645   with accuracy 62.938%\n"
     ]
    },
    {
     "name": "stderr",
     "output_type": "stream",
     "text": [
      "                                                                                                                                                                                                              "
     ]
    },
    {
     "name": "stdout",
     "output_type": "stream",
     "text": [
      "Training loss :0.64   with accuracy 63.375%\n"
     ]
    },
    {
     "name": "stderr",
     "output_type": "stream",
     "text": [
      "                                                                                                                                                                                                              "
     ]
    },
    {
     "name": "stdout",
     "output_type": "stream",
     "text": [
      "Training loss :0.64   with accuracy 63.375%\n"
     ]
    },
    {
     "name": "stderr",
     "output_type": "stream",
     "text": [
      "                                                                                                                                                                                                              "
     ]
    },
    {
     "name": "stdout",
     "output_type": "stream",
     "text": [
      "Training loss :0.636   with accuracy 64.031%\n"
     ]
    },
    {
     "name": "stderr",
     "output_type": "stream",
     "text": [
      "                                                                                                                                                                                                              "
     ]
    },
    {
     "name": "stdout",
     "output_type": "stream",
     "text": [
      "Training loss :0.635   with accuracy 63.812%\n"
     ]
    },
    {
     "name": "stderr",
     "output_type": "stream",
     "text": [
      "                                                                                                                                                                                                              "
     ]
    },
    {
     "name": "stdout",
     "output_type": "stream",
     "text": [
      "Training loss :0.636   with accuracy 63.438%\n"
     ]
    },
    {
     "name": "stderr",
     "output_type": "stream",
     "text": [
      "                                                                                                                                                                                                              "
     ]
    },
    {
     "name": "stdout",
     "output_type": "stream",
     "text": [
      "Training loss :0.636   with accuracy 63.938%\n"
     ]
    },
    {
     "name": "stderr",
     "output_type": "stream",
     "text": [
      "                                                                                                                                                                                                              "
     ]
    },
    {
     "name": "stdout",
     "output_type": "stream",
     "text": [
      "Training loss :0.631   with accuracy 64.188%\n"
     ]
    },
    {
     "name": "stderr",
     "output_type": "stream",
     "text": [
      "                                                                                                                                                                                                              "
     ]
    },
    {
     "name": "stdout",
     "output_type": "stream",
     "text": [
      "Training loss :0.632   with accuracy 64.781%\n"
     ]
    },
    {
     "name": "stderr",
     "output_type": "stream",
     "text": [
      "                                                                                                                                                                                                              "
     ]
    },
    {
     "name": "stdout",
     "output_type": "stream",
     "text": [
      "Training loss :0.631   with accuracy 64.469%\n"
     ]
    },
    {
     "name": "stderr",
     "output_type": "stream",
     "text": [
      "                                                                                                                                                                                                              "
     ]
    },
    {
     "name": "stdout",
     "output_type": "stream",
     "text": [
      "Training loss :0.632   with accuracy 64.656%\n"
     ]
    },
    {
     "name": "stderr",
     "output_type": "stream",
     "text": [
      "                                                                                                                                                                                                              "
     ]
    },
    {
     "name": "stdout",
     "output_type": "stream",
     "text": [
      "Training loss :0.629   with accuracy 64.531%\n"
     ]
    },
    {
     "name": "stderr",
     "output_type": "stream",
     "text": [
      "                                                                                                                                                                                                              "
     ]
    },
    {
     "name": "stdout",
     "output_type": "stream",
     "text": [
      "Training loss :0.628   with accuracy 65.469%\n"
     ]
    },
    {
     "name": "stderr",
     "output_type": "stream",
     "text": [
      "                                                                                                                                                                                                              "
     ]
    },
    {
     "name": "stdout",
     "output_type": "stream",
     "text": [
      "Training loss :0.633   with accuracy 64.625%\n"
     ]
    },
    {
     "name": "stderr",
     "output_type": "stream",
     "text": [
      "                                                                                                                                                                                                              "
     ]
    },
    {
     "name": "stdout",
     "output_type": "stream",
     "text": [
      "Training loss :0.629   with accuracy 64.75%\n"
     ]
    },
    {
     "name": "stderr",
     "output_type": "stream",
     "text": [
      "                                                                                                                                                                                                              "
     ]
    },
    {
     "name": "stdout",
     "output_type": "stream",
     "text": [
      "Training loss :0.63   with accuracy 65.0%\n"
     ]
    },
    {
     "name": "stderr",
     "output_type": "stream",
     "text": [
      "                                                                                                                                                                                                              "
     ]
    },
    {
     "name": "stdout",
     "output_type": "stream",
     "text": [
      "Training loss :0.63   with accuracy 65.375%\n"
     ]
    },
    {
     "name": "stderr",
     "output_type": "stream",
     "text": [
      "                                                                                                                                                                                                              "
     ]
    },
    {
     "name": "stdout",
     "output_type": "stream",
     "text": [
      "Training loss :0.627   with accuracy 64.781%\n"
     ]
    },
    {
     "name": "stderr",
     "output_type": "stream",
     "text": [
      "                                                                                                                                                                                                              "
     ]
    },
    {
     "name": "stdout",
     "output_type": "stream",
     "text": [
      "Training loss :0.633   with accuracy 63.875%\n"
     ]
    },
    {
     "name": "stderr",
     "output_type": "stream",
     "text": [
      "                                                                                                                                                                                                              "
     ]
    },
    {
     "name": "stdout",
     "output_type": "stream",
     "text": [
      "Training loss :0.629   with accuracy 65.156%\n"
     ]
    },
    {
     "name": "stderr",
     "output_type": "stream",
     "text": [
      "                                                                                                                                                                                                              "
     ]
    },
    {
     "name": "stdout",
     "output_type": "stream",
     "text": [
      "Training loss :0.633   with accuracy 63.281%\n"
     ]
    },
    {
     "name": "stderr",
     "output_type": "stream",
     "text": [
      "                                                                                                                                                                                                              "
     ]
    },
    {
     "name": "stdout",
     "output_type": "stream",
     "text": [
      "Training loss :0.622   with accuracy 66.875%\n"
     ]
    },
    {
     "name": "stderr",
     "output_type": "stream",
     "text": [
      "                                                                                                                                                                                                              "
     ]
    },
    {
     "name": "stdout",
     "output_type": "stream",
     "text": [
      "Training loss :0.626   with accuracy 64.688%\n"
     ]
    },
    {
     "name": "stderr",
     "output_type": "stream",
     "text": [
      "                                                                                                                                                                                                              "
     ]
    },
    {
     "name": "stdout",
     "output_type": "stream",
     "text": [
      "Training loss :0.623   with accuracy 65.938%\n"
     ]
    },
    {
     "name": "stderr",
     "output_type": "stream",
     "text": [
      "                                                                                                                                                                                                              "
     ]
    },
    {
     "name": "stdout",
     "output_type": "stream",
     "text": [
      "Training loss :0.628   with accuracy 64.312%\n"
     ]
    },
    {
     "name": "stderr",
     "output_type": "stream",
     "text": [
      "                                                                                                                                                                                                              \r"
     ]
    },
    {
     "name": "stdout",
     "output_type": "stream",
     "text": [
      "Validation loss :0.632   with accuracy 63.875%\n"
     ]
    },
    {
     "name": "stderr",
     "output_type": "stream",
     "text": [
      "                                                                                                                                                                                                              "
     ]
    },
    {
     "name": "stdout",
     "output_type": "stream",
     "text": [
      "Training loss :0.617   with accuracy 65.875%\n"
     ]
    },
    {
     "name": "stderr",
     "output_type": "stream",
     "text": [
      "                                                                                                                                                                                                              \r"
     ]
    },
    {
     "name": "stdout",
     "output_type": "stream",
     "text": [
      "Validation loss :0.617   with accuracy 67.0%\n"
     ]
    },
    {
     "name": "stderr",
     "output_type": "stream",
     "text": [
      "                                                                                                                                                                                                              "
     ]
    },
    {
     "name": "stdout",
     "output_type": "stream",
     "text": [
      "Training loss :0.613   with accuracy 67.062%\n"
     ]
    },
    {
     "name": "stderr",
     "output_type": "stream",
     "text": [
      "                                                                                                                                                                                                              \r"
     ]
    },
    {
     "name": "stdout",
     "output_type": "stream",
     "text": [
      "Validation loss :0.614   with accuracy 68.5%\n"
     ]
    },
    {
     "name": "stderr",
     "output_type": "stream",
     "text": [
      "                                                                                                                                                                                                              "
     ]
    },
    {
     "name": "stdout",
     "output_type": "stream",
     "text": [
      "Training loss :0.613   with accuracy 67.531%\n"
     ]
    },
    {
     "name": "stderr",
     "output_type": "stream",
     "text": [
      "                                                                                                                                                                                                              \r"
     ]
    },
    {
     "name": "stdout",
     "output_type": "stream",
     "text": [
      "Validation loss :0.613   with accuracy 68.125%\n"
     ]
    },
    {
     "name": "stderr",
     "output_type": "stream",
     "text": [
      "                                                                                                                                                                                                              "
     ]
    },
    {
     "name": "stdout",
     "output_type": "stream",
     "text": [
      "Training loss :0.612   with accuracy 67.469%\n"
     ]
    },
    {
     "name": "stderr",
     "output_type": "stream",
     "text": [
      "                                                                                                                                                                                                              \r"
     ]
    },
    {
     "name": "stdout",
     "output_type": "stream",
     "text": [
      "Validation loss :0.613   with accuracy 68.625%\n"
     ]
    },
    {
     "name": "stderr",
     "output_type": "stream",
     "text": [
      "                                                                                                                                                                                                              "
     ]
    },
    {
     "name": "stdout",
     "output_type": "stream",
     "text": [
      "Training loss :0.612   with accuracy 68.219%\n"
     ]
    },
    {
     "name": "stderr",
     "output_type": "stream",
     "text": [
      "                                                                                                                                                                                                              \r"
     ]
    },
    {
     "name": "stdout",
     "output_type": "stream",
     "text": [
      "Validation loss :0.613   with accuracy 68.0%\n"
     ]
    },
    {
     "name": "stderr",
     "output_type": "stream",
     "text": [
      "                                                                                                                                                                                                              "
     ]
    },
    {
     "name": "stdout",
     "output_type": "stream",
     "text": [
      "Training loss :0.611   with accuracy 67.344%\n"
     ]
    },
    {
     "name": "stderr",
     "output_type": "stream",
     "text": [
      "                                                                                                                                                                                                              \r"
     ]
    },
    {
     "name": "stdout",
     "output_type": "stream",
     "text": [
      "Validation loss :0.612   with accuracy 68.5%\n"
     ]
    },
    {
     "name": "stderr",
     "output_type": "stream",
     "text": [
      "                                                                                                                                                                                                              "
     ]
    },
    {
     "name": "stdout",
     "output_type": "stream",
     "text": [
      "Training loss :0.611   with accuracy 67.656%\n"
     ]
    },
    {
     "name": "stderr",
     "output_type": "stream",
     "text": [
      "                                                                                                                                                                                                              \r"
     ]
    },
    {
     "name": "stdout",
     "output_type": "stream",
     "text": [
      "Validation loss :0.612   with accuracy 68.625%\n"
     ]
    },
    {
     "name": "stderr",
     "output_type": "stream",
     "text": [
      "                                                                                                                                                                                                              "
     ]
    },
    {
     "name": "stdout",
     "output_type": "stream",
     "text": [
      "Training loss :0.611   with accuracy 67.375%\n"
     ]
    },
    {
     "name": "stderr",
     "output_type": "stream",
     "text": [
      "                                                                                                                                                                                                              \r"
     ]
    },
    {
     "name": "stdout",
     "output_type": "stream",
     "text": [
      "Validation loss :0.612   with accuracy 68.125%\n"
     ]
    },
    {
     "name": "stderr",
     "output_type": "stream",
     "text": [
      "                                                                                                                                                                                                              "
     ]
    },
    {
     "name": "stdout",
     "output_type": "stream",
     "text": [
      "Training loss :0.611   with accuracy 67.438%\n"
     ]
    },
    {
     "name": "stderr",
     "output_type": "stream",
     "text": [
      "                                                                                                                                                                                                              \r"
     ]
    },
    {
     "name": "stdout",
     "output_type": "stream",
     "text": [
      "Validation loss :0.612   with accuracy 68.0%\n"
     ]
    },
    {
     "name": "stderr",
     "output_type": "stream",
     "text": [
      "                                                                                                                                                                                                              "
     ]
    },
    {
     "name": "stdout",
     "output_type": "stream",
     "text": [
      "Training loss :0.611   with accuracy 67.469%\n"
     ]
    },
    {
     "name": "stderr",
     "output_type": "stream",
     "text": [
      "                                                                                                                                                                                                              \r"
     ]
    },
    {
     "name": "stdout",
     "output_type": "stream",
     "text": [
      "Validation loss :0.612   with accuracy 68.5%\n",
      "Training finished, took 4881.42s\n"
     ]
    }
   ],
   "source": [
    "from transformers import AdamW,get_linear_schedule_with_warmup\n",
    "import torch.nn as nn\n",
    "import time\n",
    "PATH ='fc_bert/'\n",
    "#move model to GPU\n",
    "max_length =128\n",
    "model.to(device)\n",
    "tokenizer = transformers.BertTokenizer.from_pretrained(\"bert-base-uncased\")\n",
    "dataset = AITextDataset(tokenizer =tokenizer, max_length = 128, data_type ='train',model_type ='bert',file_path ='dataset/train_set.json')\n",
    "dataset_size = len(dataset)\n",
    "validation_split = 0.20\n",
    "indices = list(range(dataset_size))\n",
    "split = int(np.floor(validation_split * dataset_size))\n",
    "\n",
    "np.random.shuffle(indices)\n",
    "train_indices, val_indices = indices[split:], indices[:split]\n",
    "train_split = Subset(dataset, train_indices)\n",
    "\n",
    "val_split = Subset(dataset, val_indices)\n",
    "train_dataloader = torch.utils.data.DataLoader(train_split, batch_size=16, shuffle=True, num_workers=4,collate_fn = dataset.collate_fn_train)\n",
    "val_dataloader = torch.utils.data.DataLoader(val_split, batch_size=16, shuffle=False, num_workers=4,collate_fn= dataset.collate_fn_train)\n",
    "##Training parameters:\n",
    "epochs = 50\n",
    "# construct an optimizer\n",
    "arch ='bert'\n",
    "optimizer = AdamW(model.parameters(), lr=2e-4,eps = 1e-08)\n",
    "\n",
    "# Set up the learning rate scheduler\n",
    "total_steps = len(train_dataloader) * epochs\n",
    "scheduler = get_linear_schedule_with_warmup(optimizer,\n",
    "                                                num_warmup_steps=0, # Default value\n",
    "                                                num_training_steps=total_steps)\n",
    "loss_fn = nn.BCEWithLogitsLoss()\n",
    "\n",
    "training_start_time = time.time()\n",
    "\n",
    "model,train_loss,val_loss = training_loop(epochs, train_dataloader,val_dataloader, model, loss_fn, optimizer,scheduler)\n",
    "print('Training finished, took {:.2f}s'.format(time.time() - training_start_time))\n",
    "\n",
    "torch.save(model.state_dict(), PATH +'/ai-text-'+arch+str(epochs)+'-classifier-max-length-'+str(max_length)+'.pth')"
   ]
  },
  {
   "cell_type": "code",
   "execution_count": 25,
   "id": "c2b9092d",
   "metadata": {},
   "outputs": [
    {
     "name": "stderr",
     "output_type": "stream",
     "text": [
      "                                                                                                                                                                                                              \r"
     ]
    }
   ],
   "source": [
    "val_dataloader = torch.utils.data.DataLoader(val_split, batch_size=1, shuffle=False, num_workers=4,collate_fn= dataset.collate_fn_train)\n",
    "model.eval()\n",
    "model.to(device)\n",
    "actuals = []\n",
    "predictions = []\n",
    "\n",
    "with torch.no_grad():\n",
    "  loop=tqdm(enumerate(val_dataloader),leave=False,total=len(val_dataloader))\n",
    "  for i,(batch, dl) in enumerate(loop):\n",
    "    ids = dl['ids'].to(device)\n",
    "    if arch =='bert':\n",
    "      token_type_ids=dl['token_type_ids'].to(device)\n",
    "    mask= dl['mask'].to(device)\n",
    "    label = dl['target'].detach().numpy().tolist()[0]\n",
    "    if arch =='bert':\n",
    "      output = model(ids,mask,token_type_ids)\n",
    "    else:\n",
    "      output = model(ids,mask)\n",
    "    output = output.cpu().detach().numpy()\n",
    "    pred = np.where(output >= 0, 1, 0)  \n",
    "    row = pred.tolist()[0][0]\n",
    "    actuals.append(label)\n",
    "    predictions.append(row)  \n",
    " "
   ]
  },
  {
   "cell_type": "code",
   "execution_count": 14,
   "id": "8923cad7",
   "metadata": {},
   "outputs": [
    {
     "data": {
      "text/plain": [
       "<sklearn.metrics._plot.confusion_matrix.ConfusionMatrixDisplay at 0x7ff1f02654d0>"
      ]
     },
     "execution_count": 14,
     "metadata": {},
     "output_type": "execute_result"
    },
    {
     "data": {
      "image/png": "[encoded data removed]",
      "text/plain": [
       "<Figure size 640x480 with 2 Axes>"
      ]
     },
     "metadata": {},
     "output_type": "display_data"
    }
   ],
   "source": [
    "true_labels = np.array(actuals)\n",
    "pred_labels = np.array(predictions)\n",
    "C = confusion_matrix(true_labels,pred_labels)\n",
    "C = C / C.astype(np.float).sum(axis=1)\n",
    "disp = ConfusionMatrixDisplay(confusion_matrix=C ,display_labels=['Human text','AI text'])\n",
    "disp.plot()"
   ]
  },
  {
   "cell_type": "code",
   "execution_count": 15,
   "id": "e89178e6",
   "metadata": {},
   "outputs": [
    {
     "name": "stdout",
     "output_type": "stream",
     "text": [
      "Accuracy is 0.6425\n"
     ]
    }
   ],
   "source": [
    "print('Accuracy is {}'.format(accuracy_score(true_labels,pred_labels)))"
   ]
  },
  {
   "cell_type": "code",
   "execution_count": null,
   "id": "697bed95",
   "metadata": {},
   "outputs": [],
   "source": []
  }
 ],
 "metadata": {
  "kernelspec": {
   "display_name": "Python 3 (ipykernel)",
   "language": "python",
   "name": "python3"
  },
  "language_info": {
   "codemirror_mode": {
    "name": "ipython",
    "version": 3
   },
   "file_extension": ".py",
   "mimetype": "text/x-python",
   "name": "python",
   "nbconvert_exporter": "python",
   "pygments_lexer": "ipython3",
   "version": "3.7.12"
  }
 },
 "nbformat": 4,
 "nbformat_minor": 5
}
